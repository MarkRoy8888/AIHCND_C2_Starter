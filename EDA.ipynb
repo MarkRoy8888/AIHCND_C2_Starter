{
 "cells": [
  {
   "cell_type": "code",
   "execution_count": 1,
   "metadata": {},
   "outputs": [],
   "source": [
    "import numpy as np # linear algebra\n",
    "import pandas as pd # data processing, CSV file I/O (e.g. pd.read_csv)\n",
    "import os\n",
    "from glob import glob\n",
    "%matplotlib inline\n",
    "import matplotlib.pyplot as plt\n",
    "import seaborn as sns\n",
    "\n",
    "##Import any other packages you may need here"
   ]
  },
  {
   "cell_type": "markdown",
   "metadata": {},
   "source": [
    "EDA is open-ended, and it is up to you to decide how to look at different ways to slice and dice your data. A good starting point is to look at the requirements for the FDA documentation in the final part of this project to guide (some) of the analyses you do. \n",
    "\n",
    "This EDA should also help to inform you of how pneumonia looks in the wild. E.g. what other types of diseases it's commonly found with, how often it is found, what ages it affects, etc. \n",
    "\n",
    "Note that this NIH dataset was not specifically acquired for pneumonia. So, while this is a representation of 'pneumonia in the wild,' the prevalence of pneumonia may be different if you were to take only chest x-rays that were acquired in an ER setting with suspicion of pneumonia. "
   ]
  },
  {
   "cell_type": "markdown",
   "metadata": {},
   "source": [
    "Perform the following EDA:\n",
    "* The patient demographic data such as gender, age, patient position,etc. (as it is available)\n",
    "* The x-ray views taken (i.e. view position)\n",
    "* The number of cases including: \n",
    "    * number of pneumonia cases,\n",
    "    * number of non-pneumonia cases\n",
    "* The distribution of other diseases that are comorbid with pneumonia\n",
    "* Number of disease per patient \n",
    "* Pixel-level assessments of the imaging data for healthy & disease states of interest (e.g. histograms of intensity values) and compare distributions across diseases.\n",
    "\n",
    "Note: use full NIH data to perform the first a few EDA items and use `sample_labels.csv` for the pixel-level assassements. "
   ]
  },
  {
   "cell_type": "markdown",
   "metadata": {},
   "source": [
    "Also, **describe your findings and how will you set up the model training based on the findings.**"
   ]
  },
  {
   "cell_type": "code",
   "execution_count": 2,
   "metadata": {
    "scrolled": true
   },
   "outputs": [
    {
     "data": {
      "text/html": [
       "<div>\n",
       "<style scoped>\n",
       "    .dataframe tbody tr th:only-of-type {\n",
       "        vertical-align: middle;\n",
       "    }\n",
       "\n",
       "    .dataframe tbody tr th {\n",
       "        vertical-align: top;\n",
       "    }\n",
       "\n",
       "    .dataframe thead th {\n",
       "        text-align: right;\n",
       "    }\n",
       "</style>\n",
       "<table border=\"1\" class=\"dataframe\">\n",
       "  <thead>\n",
       "    <tr style=\"text-align: right;\">\n",
       "      <th></th>\n",
       "      <th>Image Index</th>\n",
       "      <th>Finding Labels</th>\n",
       "      <th>Follow-up #</th>\n",
       "      <th>Patient ID</th>\n",
       "      <th>Patient Age</th>\n",
       "      <th>Patient Gender</th>\n",
       "      <th>View Position</th>\n",
       "      <th>OriginalImage[Width</th>\n",
       "      <th>Height]</th>\n",
       "      <th>OriginalImagePixelSpacing[x</th>\n",
       "      <th>y]</th>\n",
       "      <th>Unnamed: 11</th>\n",
       "    </tr>\n",
       "  </thead>\n",
       "  <tbody>\n",
       "    <tr>\n",
       "      <th>55535</th>\n",
       "      <td>00013911_004.png</td>\n",
       "      <td>Effusion|Nodule</td>\n",
       "      <td>4</td>\n",
       "      <td>13911</td>\n",
       "      <td>63</td>\n",
       "      <td>M</td>\n",
       "      <td>PA</td>\n",
       "      <td>2992</td>\n",
       "      <td>2991</td>\n",
       "      <td>0.143</td>\n",
       "      <td>0.143</td>\n",
       "      <td>NaN</td>\n",
       "    </tr>\n",
       "    <tr>\n",
       "      <th>19488</th>\n",
       "      <td>00005176_013.png</td>\n",
       "      <td>No Finding</td>\n",
       "      <td>13</td>\n",
       "      <td>5176</td>\n",
       "      <td>69</td>\n",
       "      <td>M</td>\n",
       "      <td>PA</td>\n",
       "      <td>2500</td>\n",
       "      <td>2048</td>\n",
       "      <td>0.168</td>\n",
       "      <td>0.168</td>\n",
       "      <td>NaN</td>\n",
       "    </tr>\n",
       "    <tr>\n",
       "      <th>71520</th>\n",
       "      <td>00017618_036.png</td>\n",
       "      <td>No Finding</td>\n",
       "      <td>36</td>\n",
       "      <td>17618</td>\n",
       "      <td>36</td>\n",
       "      <td>M</td>\n",
       "      <td>AP</td>\n",
       "      <td>2500</td>\n",
       "      <td>2048</td>\n",
       "      <td>0.168</td>\n",
       "      <td>0.168</td>\n",
       "      <td>NaN</td>\n",
       "    </tr>\n",
       "  </tbody>\n",
       "</table>\n",
       "</div>"
      ],
      "text/plain": [
       "            Image Index   Finding Labels  Follow-up #  Patient ID  \\\n",
       "55535  00013911_004.png  Effusion|Nodule            4       13911   \n",
       "19488  00005176_013.png       No Finding           13        5176   \n",
       "71520  00017618_036.png       No Finding           36       17618   \n",
       "\n",
       "       Patient Age Patient Gender View Position  OriginalImage[Width  Height]  \\\n",
       "55535           63              M            PA                 2992     2991   \n",
       "19488           69              M            PA                 2500     2048   \n",
       "71520           36              M            AP                 2500     2048   \n",
       "\n",
       "       OriginalImagePixelSpacing[x     y]  Unnamed: 11  \n",
       "55535                        0.143  0.143          NaN  \n",
       "19488                        0.168  0.168          NaN  \n",
       "71520                        0.168  0.168          NaN  "
      ]
     },
     "execution_count": 2,
     "metadata": {},
     "output_type": "execute_result"
    }
   ],
   "source": [
    "## Below is some helper code to read data for you.\n",
    "## Load NIH data\n",
    "## Load 'sample_labels.csv' data for pixel level assessments\n",
    "sample_df = pd.read_csv('sample_labels.csv')\n",
    "sample_df.sample(3)\n",
    "all_xray_df = pd.read_csv('/data/Data_Entry_2017.csv')\n",
    "all_xray_df.sample(3)"
   ]
  },
  {
   "cell_type": "code",
   "execution_count": 3,
   "metadata": {},
   "outputs": [
    {
     "data": {
      "text/plain": [
       "((5606, 11), (112120, 12))"
      ]
     },
     "execution_count": 3,
     "metadata": {},
     "output_type": "execute_result"
    }
   ],
   "source": [
    "sample_df.shape,all_xray_df.shape"
   ]
  },
  {
   "cell_type": "code",
   "execution_count": 4,
   "metadata": {},
   "outputs": [],
   "source": [
    "## EDA\n",
    "# Todo "
   ]
  },
  {
   "cell_type": "markdown",
   "metadata": {},
   "source": [
    "# Gender"
   ]
  },
  {
   "cell_type": "code",
   "execution_count": 5,
   "metadata": {
    "scrolled": true
   },
   "outputs": [
    {
     "data": {
      "image/png": "[encoded data removed]",
      "text/plain": [
       "<Figure size 432x288 with 1 Axes>"
      ]
     },
     "metadata": {
      "needs_background": "light"
     },
     "output_type": "display_data"
    }
   ],
   "source": [
    "base_line=int(all_xray_df['Patient Gender'][all_xray_df['Patient Gender']==\"F\"].value_counts())\n",
    "plt.bar(all_xray_df['Patient Gender'].unique(),\n",
    "        all_xray_df['Patient Gender'].value_counts(), \n",
    "        width=0.4, \n",
    "        bottom=None, \n",
    "        align='center', \n",
    "        color=['pink', \n",
    "#                'cornflowerblue',\n",
    "#                'royalblue', \n",
    "#                'midnightblue', \n",
    "#                'navy', \n",
    "#                'darkblue', \n",
    "#                  'mediumblue',\n",
    "              'black'],\n",
    "#         orientation='horizontal'\n",
    "       )\n",
    "# plt.xticks(rotation='vertical')\n",
    "plt.axhline(y=base_line, c=\"r\", ls=\"--\", lw=2)\n",
    "plt.show()"
   ]
  },
  {
   "cell_type": "markdown",
   "metadata": {},
   "source": [
    "# Follow-up"
   ]
  },
  {
   "cell_type": "code",
   "execution_count": 10,
   "metadata": {},
   "outputs": [
    {
     "data": {
      "image/png": "[encoded data removed]",
      "text/plain": [
       "<Figure size 432x288 with 1 Axes>"
      ]
     },
     "metadata": {
      "needs_background": "light"
     },
     "output_type": "display_data"
    }
   ],
   "source": [
    "plt.bar(\n",
    "        all_xray_df['Follow-up #'].unique(),\n",
    "        all_xray_df['Follow-up #'].value_counts(), \n",
    "        width=0.4, \n",
    "        bottom=None, \n",
    "        align='center', \n",
    "#         orientation='vertical',\n",
    "        color=['cornflowerblue',\n",
    "#                'royalblue', \n",
    "#                'midnightblue', \n",
    "#                'navy', \n",
    "#                'darkblue', \n",
    "               'mediumblue'],\n",
    "       )\n",
    "# plt.xticks(rotation='vertical')\n",
    "# plt.axhline(y=base_line, c=\"r\", ls=\"--\", lw=2)\n",
    "plt.xlim(0,75)\n",
    "plt.ylim(0,15000)\n",
    "plt.show()"
   ]
  },
  {
   "cell_type": "markdown",
   "metadata": {},
   "source": [
    "# Finding Labels"
   ]
  },
  {
   "cell_type": "code",
   "execution_count": 11,
   "metadata": {},
   "outputs": [
    {
     "data": {
      "text/plain": [
       "Finding_Labels_s\n",
       "No Finding            60361\n",
       "Infiltration          15577\n",
       "Effusion               6497\n",
       "Nodule                 5535\n",
       "Pneumothorax           5286\n",
       "Atelectasis            4229\n",
       "Mass                   4145\n",
       "Pleural_Thickening     3043\n",
       "Consolidation          1758\n",
       "Pneumonia              1393\n",
       "Emphysema              1211\n",
       "Cardiomegaly           1184\n",
       "Fibrosis                977\n",
       "Edema                   773\n",
       "Hernia                  151\n",
       "Name: Patient ID, dtype: int64"
      ]
     },
     "execution_count": 11,
     "metadata": {},
     "output_type": "execute_result"
    }
   ],
   "source": [
    "all_xray_df['Finding_Labels_s']=all_xray_df['Finding Labels'].str.split('|').str.get(-1)\n",
    "all_xray_df.groupby('Finding_Labels_s').count()['Patient ID'].sort_values(ascending=False)\n",
    "# all_xray_df['Finding_Labels_s']=all_xray_df['Finding Labels'].str.split('|').str.get(0)\n",
    "# all_xray_df.groupby('Finding_Labels_s').count()['Patient ID'].sort_values(ascending=False)\n",
    "# all_xray_df['Finding_Labels_s2']=all_xray_df['Finding Labels'].str.split(',').str.get(0)\n",
    "# all_xray_df.groupby('Finding_Labels_s2').count()['Patient ID'].sort_values(ascending=False)"
   ]
  },
  {
   "cell_type": "code",
   "execution_count": 12,
   "metadata": {},
   "outputs": [
    {
     "data": {
      "text/plain": [
       "<matplotlib.axes._subplots.AxesSubplot at 0x7fcf351b8590>"
      ]
     },
     "execution_count": 12,
     "metadata": {},
     "output_type": "execute_result"
    },
    {
     "data": {
      "image/png": "[encoded data removed]",
      "text/plain": [
       "<Figure size 432x288 with 1 Axes>"
      ]
     },
     "metadata": {
      "needs_background": "light"
     },
     "output_type": "display_data"
    }
   ],
   "source": [
    "all_xray_df.groupby('Finding_Labels_s').count()['Patient ID'].\\\n",
    "sort_values(ascending=False).plot(kind='bar',\\\n",
    "color=['red','pink','brown','tomato','crimson','gold'])\n",
    "# plt.xticks(rotation='vertical')"
   ]
  },
  {
   "cell_type": "markdown",
   "metadata": {},
   "source": [
    "# Age"
   ]
  },
  {
   "cell_type": "code",
   "execution_count": 82,
   "metadata": {},
   "outputs": [
    {
     "data": {
      "image/png": "[encoded data removed]",
      "text/plain": [
       "<Figure size 432x288 with 1 Axes>"
      ]
     },
     "metadata": {
      "needs_background": "light"
     },
     "output_type": "display_data"
    }
   ],
   "source": [
    "plt.bar(all_xray_df['Patient Age'].unique(),\n",
    "        all_xray_df['Patient Age'].value_counts(), \n",
    "        \n",
    "#         width=0.4, \n",
    "#         bottom=None, \n",
    "#         align='center', \n",
    "# #         orientation='vertical',\n",
    "#         color=['cornflowerblue',\n",
    "#                'royalblue', \n",
    "#                'midnightblue', \n",
    "#                'navy', \n",
    "#                'darkblue', \n",
    "#                'mediumblue'],\n",
    "       )\n",
    "# plt.xticks(rotation='vertical')\n",
    "# plt.axhline(y=base_line, c=\"r\", ls=\"--\", lw=2)\n",
    "plt.xlim(0,100)\n",
    "# plt.ylim(-0.5,2.5)\n",
    "plt.show()"
   ]
  },
  {
   "cell_type": "markdown",
   "metadata": {},
   "source": [
    "# View Position"
   ]
  },
  {
   "cell_type": "code",
   "execution_count": 150,
   "metadata": {
    "scrolled": true
   },
   "outputs": [
    {
     "data": {
      "image/png": "[encoded data removed]",
      "text/plain": [
       "<Figure size 432x288 with 1 Axes>"
      ]
     },
     "metadata": {
      "needs_background": "light"
     },
     "output_type": "display_data"
    }
   ],
   "source": [
    "# all_xray_df.groupby('View Position').count()['Patient ID'].sort_values(ascending=False)\n",
    "base_line=int(all_xray_df['View Position'][all_xray_df['View Position']==\"AP\"].value_counts())\n",
    "\n",
    "plt.bar(all_xray_df['View Position'].unique(),\n",
    "        all_xray_df['View Position'].value_counts(), \n",
    "        width=0.4, \n",
    "        bottom=None, \n",
    "        align='center', \n",
    "        color=['pink', \n",
    "              'black'],\n",
    "#         orientation='horizontal'\n",
    "       )\n",
    "# plt.xticks(rotation='vertical')\n",
    "plt.axhline(y=base_line, c=\"r\", ls=\"--\", lw=2)\n",
    "plt.show()"
   ]
  },
  {
   "cell_type": "code",
   "execution_count": 151,
   "metadata": {
    "scrolled": false
   },
   "outputs": [],
   "source": [
    "# all_xray_df.columns"
   ]
  },
  {
   "cell_type": "code",
   "execution_count": null,
   "metadata": {},
   "outputs": [],
   "source": []
  },
  {
   "cell_type": "code",
   "execution_count": null,
   "metadata": {},
   "outputs": [],
   "source": []
  },
  {
   "cell_type": "code",
   "execution_count": null,
   "metadata": {},
   "outputs": [],
   "source": []
  }
 ],
 "metadata": {
  "kernelspec": {
   "display_name": "Python 3",
   "language": "python",
   "name": "python3"
  },
  "language_info": {
   "codemirror_mode": {
    "name": "ipython",
    "version": 3
   },
   "file_extension": ".py",
   "mimetype": "text/x-python",
   "name": "python",
   "nbconvert_exporter": "python",
   "pygments_lexer": "ipython3",
   "version": "3.7.6"
  }
 },
 "nbformat": 4,
 "nbformat_minor": 2
}

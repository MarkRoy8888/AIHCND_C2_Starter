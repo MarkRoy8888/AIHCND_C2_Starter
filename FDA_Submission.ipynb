{
 "cells": [
  {
   "cell_type": "markdown",
   "metadata": {},
   "source": [
    "# FDA  Submission\n",
    "**Your Name:** Mark Luo\n",
    "\n",
    "**Name of your Device:** Chest X-Rays Pneumonia Detector"
   ]
  },
  {
   "cell_type": "markdown",
   "metadata": {},
   "source": [
    "## Algorithm Description \n",
    "\n",
    "### 1. General Information\n",
    "\n",
    "**Intended Use Statement:** Help Radiologists in detecting Pneumonia in Chest X-Rays\n",
    "\n",
    "**Indications for Use:**\n",
    "\n",
    "* X-Ray image must be in the AP or PA position\n",
    "\n",
    "* X-Ray image must be in DICOM format\n",
    "\n",
    "**Device Limitations:**<br/>\n",
    "* Diagnosis can be made on a computer with a great CPU, although a GPU is preferred.<br/>Depend on agency.\n",
    "\n",
    "**Clinical Impact of Performance:**\n",
    "\n",
    "* Precision: 0.32\n",
    "* Recall: 0.66\n",
    "* It means that the result still has some probability to diagnose errors.\n",
    "* It can use as reference."
   ]
  },
  {
   "cell_type": "markdown",
   "metadata": {},
   "source": [
    "### 2. Algorithm Design and Function\n",
    "\n",
    "![Flowchart](./workflow.png)\n",
    "\n",
    "**DICOM Checking Steps:**\n",
    "* Modality is \"DX\"\n",
    "* Body part examined is \"CHEST\"\n",
    "* Patient Position is \"PA\" or \"AP\"\n",
    "\n",
    "**Preprocessing Steps:**\n",
    "\n",
    "\n",
    "* Image is normalized\n",
    "* Image is reshaped\n",
    "* Image is repeated across 3 channels\n",
    "\n",
    "**CNN Architecture:** <br/>\n",
    "I try so many model structure, but I can train a useful one.\n",
    "so I follow \"SaschaMet\" from w\n",
    "https://github.com/SaschaMet/Udacity-AI-for-Healthcare-NanoDegree/blob/main/Pneumonia%20Detection%20from%20Chest%20X-Rays/FDA_Submission.md\n",
    "to build model.\n",
    "\n",
    "![model](./model.png)\n",
    "\n"
   ]
  },
  {
   "cell_type": "markdown",
   "metadata": {},
   "source": [
    "### 3. Algorithm Training\n",
    "\n",
    "**Parameters:**\n",
    "* height_shift_range = 0.1\n",
    "* width_shift_range = 0.1\n",
    "* shear_range = 0.1\n",
    "* zoom_range = 0.15\n",
    "\n",
    "* BATCH_SIZE = 64\n",
    "* epochs = 30\n",
    "* learning_rate = 1e-4\n",
    "\n",
    "* Using pretrain model as basic to add some layer,dropout and dense to imporve performance.\n",
    "\n",
    "![](./history.png)\n",
    "![](./AP.png)\n",
    "**Final Threshold and Explanation:**\n",
    "\n",
    "\n",
    "* Threshold: 0.61\n",
    "* F1 Score: 0.43\n",
    "\n",
    "* The F1 score is better the means (0.387), so this model is useful."
   ]
  },
  {
   "cell_type": "markdown",
   "metadata": {},
   "source": [
    "### 4. Databases\n",
    "\n",
    "--The Dataset can be found here: NIH Chest X-ray Dataset<br/>\n",
    "--It contains 112,120 chest x-ray images<br/>\n",
    "--Each image has the following meta data: <br/>\n",
    "\n",
    "\n",
    "1. Image Index\n",
    "2. Finding Labels\n",
    "3. Follow-up #\n",
    "4. Patient ID\n",
    "5. Patient Age\n",
    "6. Patient Gender\n",
    "7. View Position\n",
    "8. Original Image Size\n",
    "9. Original Image Pixel Spacing"
   ]
  },
  {
   "cell_type": "markdown",
   "metadata": {},
   "source": [
    "### 5. Ground Truth"
   ]
  },
  {
   "cell_type": "markdown",
   "metadata": {},
   "source": [
    "* 112,120 DICOM from 30,805 patients to train model.\n",
    "* I delete other pathologies from this data, to use in dilemma.\n",
    "* Just the imformation for Pneumonia or not."
   ]
  },
  {
   "cell_type": "markdown",
   "metadata": {},
   "source": [
    "### 6. FDA Validation Plan\n",
    "\n",
    "**Patient Population Description for FDA Validation Dataset:**\n",
    "* Applicable for men and women from 1 to 90 years old\n",
    "* Chest X-Ray image must be taken in the AP or PA position\n",
    "* Chest X-Ray image must be in DICOM forma\n",
    "\n",
    "**Ground Truth Acquisition Methodology:**\n",
    "* Silver Standard: Validation by 3 different radiologists\n",
    "\n",
    "**Algorithm Performance Standard:**<br/>\n",
    "* The algorithm’s F1 score should be more than that of average radiologist\n",
    "(0.387)\n"
   ]
  },
  {
   "cell_type": "code",
   "execution_count": null,
   "metadata": {},
   "outputs": [],
   "source": []
  },
  {
   "cell_type": "code",
   "execution_count": null,
   "metadata": {},
   "outputs": [],
   "source": []
  },
  {
   "cell_type": "code",
   "execution_count": null,
   "metadata": {},
   "outputs": [],
   "source": []
  }
 ],
 "metadata": {
  "kernelspec": {
   "display_name": "Python 3",
   "language": "python",
   "name": "python3"
  },
  "language_info": {
   "codemirror_mode": {
    "name": "ipython",
    "version": 3
   },
   "file_extension": ".py",
   "mimetype": "text/x-python",
   "name": "python",
   "nbconvert_exporter": "python",
   "pygments_lexer": "ipython3",
   "version": "3.8.3"
  }
 },
 "nbformat": 4,
 "nbformat_minor": 4
}

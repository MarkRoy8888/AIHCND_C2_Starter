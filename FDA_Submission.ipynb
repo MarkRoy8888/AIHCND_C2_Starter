{
 "cells": [
  {
   "cell_type": "markdown",
   "metadata": {},
   "source": [
    "# FDA  Submission\n",
    "**Your Name:** Mark Luo\n",
    "\n",
    "**Name of your Device:** Chest X-Rays Pneumonia Detector"
   ]
  },
  {
   "cell_type": "markdown",
   "metadata": {},
   "source": [
    "## Algorithm Description \n",
    "\n",
    "### 1. General Information\n",
    "\n",
    "**Intended Use Statement:** Help Radiologists in detecting Pneumonia in Chest X-Rays\n",
    "\n",
    "**Indications for Use:**\n",
    "\n",
    "* Both male and female.\n",
    "\n",
    "* X-Ray image must be in the AP or PA position\n",
    "\n",
    "* X-Ray image must be in DICOM format\n",
    "\n",
    "**Device Limitations:**<br/>\n",
    "* Diagnosis can be made on a computer with a great CPU, although a GPU is preferred.<br/>Depend on agency.\n",
    "\n",
    "**Clinical Impact of Performance:**\n",
    "\n"
   ]
  },
  {
   "cell_type": "markdown",
   "metadata": {},
   "source": [
    "### 2. Algorithm Design and Function\n",
    "\n",
    "![Flowchart](./workflow.png)\n",
    "\n",
    "**DICOM Checking Steps:**\n",
    "* Modality is \"DX\"\n",
    "* Body part examined is \"CHEST\"\n",
    "* Patient Position is \"PA\" or \"AP\"\n",
    "\n",
    "**Preprocessing Steps:**\n",
    "\n",
    "\n",
    "* Image is normalized\n",
    "* Image is reshaped\n",
    "* Image is repeated across 3 channels\n",
    "\n",
    "**CNN Architecture:**\n",
    "I try so many model structure, but I can train a useful one.\n",
    "I follow SaschaMet from web\n",
    "https://github.com/SaschaMet/Udacity-AI-for-Healthcare-NanoDegree/blob/main/Pneumonia%20Detection%20from%20Chest%20X-Rays/FDA_Submission.md\n",
    "to build model.\n",
    "\n",
    "![model](./model.png)\n",
    "\n"
   ]
  },
  {
   "cell_type": "markdown",
   "metadata": {},
   "source": [
    "### 3. Algorithm Training\n",
    "\n",
    "**Parameters:**\n",
    "* Types of augmentation used during training\n",
    "* Batch size\n",
    "* Optimizer learning rate\n",
    "* Layers of pre-existing architecture that were frozen\n",
    "* Layers of pre-existing architecture that were fine-tuned\n",
    "* Layers added to pre-existing architecture\n",
    "\n",
    "<< Insert algorithm training performance visualization >> \n",
    "\n",
    "<< Insert P-R curve >>\n",
    "\n",
    "**Final Threshold and Explanation:**"
   ]
  },
  {
   "cell_type": "markdown",
   "metadata": {},
   "source": [
    "### 4. Databases\n",
    " (For the below, include visualizations as they are useful and relevant)\n",
    "\n",
    "**Description of Training Dataset:** \n",
    "\n",
    "\n",
    "**Description of Validation Dataset:** "
   ]
  },
  {
   "cell_type": "markdown",
   "metadata": {},
   "source": [
    "### 5. Ground Truth"
   ]
  },
  {
   "cell_type": "markdown",
   "metadata": {},
   "source": [
    "### 6. FDA Validation Plan\n",
    "\n",
    "**Patient Population Description for FDA Validation Dataset:**\n",
    "\n",
    "**Ground Truth Acquisition Methodology:**\n",
    "\n",
    "**Algorithm Performance Standard:**\n"
   ]
  },
  {
   "cell_type": "code",
   "execution_count": null,
   "metadata": {},
   "outputs": [],
   "source": []
  }
 ],
 "metadata": {
  "kernelspec": {
   "display_name": "Python 3",
   "language": "python",
   "name": "python3"
  },
  "language_info": {
   "codemirror_mode": {
    "name": "ipython",
    "version": 3
   },
   "file_extension": ".py",
   "mimetype": "text/x-python",
   "name": "python",
   "nbconvert_exporter": "python",
   "pygments_lexer": "ipython3",
   "version": "3.8.3"
  }
 },
 "nbformat": 4,
 "nbformat_minor": 4
}
